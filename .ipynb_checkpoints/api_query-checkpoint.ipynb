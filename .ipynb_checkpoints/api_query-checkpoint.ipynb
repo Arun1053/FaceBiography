{
 "cells": [
  {
   "cell_type": "code",
   "execution_count": 1,
   "id": "72fc7418",
   "metadata": {},
   "outputs": [
    {
     "data": {
      "text/html": [
       "<div>\n",
       "<style scoped>\n",
       "    .dataframe tbody tr th:only-of-type {\n",
       "        vertical-align: middle;\n",
       "    }\n",
       "\n",
       "    .dataframe tbody tr th {\n",
       "        vertical-align: top;\n",
       "    }\n",
       "\n",
       "    .dataframe thead th {\n",
       "        text-align: right;\n",
       "    }\n",
       "</style>\n",
       "<table border=\"1\" class=\"dataframe\">\n",
       "  <thead>\n",
       "    <tr style=\"text-align: right;\">\n",
       "      <th></th>\n",
       "      <th>id</th>\n",
       "      <th>product</th>\n",
       "      <th>timestamp</th>\n",
       "      <th>user</th>\n",
       "      <th>zone</th>\n",
       "    </tr>\n",
       "  </thead>\n",
       "  <tbody>\n",
       "    <tr>\n",
       "      <th>0</th>\n",
       "      <td>676a2a53-5e37-4de1-8e4d-ec6985cb9129</td>\n",
       "      <td>7792900092676</td>\n",
       "      <td>2021-8-5 16:44:19</td>\n",
       "      <td>0</td>\n",
       "      <td>1.2</td>\n",
       "    </tr>\n",
       "    <tr>\n",
       "      <th>1</th>\n",
       "      <td>5d59ad3b-963a-443f-9d9f-57eaf040b485</td>\n",
       "      <td>7792900092911</td>\n",
       "      <td>2021-8-5 17:28:57</td>\n",
       "      <td>0</td>\n",
       "      <td>1.1</td>\n",
       "    </tr>\n",
       "    <tr>\n",
       "      <th>2</th>\n",
       "      <td>37b37dd2-5c51-4e19-87e7-94ffa0ab08bd</td>\n",
       "      <td>7792900093260</td>\n",
       "      <td>2021-8-5 17:31:3</td>\n",
       "      <td>0</td>\n",
       "      <td>1.1</td>\n",
       "    </tr>\n",
       "    <tr>\n",
       "      <th>3</th>\n",
       "      <td>6fce69df-a864-4577-8565-e59cc2542863</td>\n",
       "      <td>-1</td>\n",
       "      <td>2021-8-5 16:59:46</td>\n",
       "      <td>0</td>\n",
       "      <td>1.1</td>\n",
       "    </tr>\n",
       "    <tr>\n",
       "      <th>4</th>\n",
       "      <td>f50a937f-c8b1-4917-a77b-9939b20c6382</td>\n",
       "      <td>7792900092676</td>\n",
       "      <td>2021-8-5 17:30:39</td>\n",
       "      <td>0</td>\n",
       "      <td>1.1</td>\n",
       "    </tr>\n",
       "    <tr>\n",
       "      <th>...</th>\n",
       "      <td>...</td>\n",
       "      <td>...</td>\n",
       "      <td>...</td>\n",
       "      <td>...</td>\n",
       "      <td>...</td>\n",
       "    </tr>\n",
       "    <tr>\n",
       "      <th>4402</th>\n",
       "      <td>40a179c1-bb29-4eda-86b4-ce1c07fe6f8a</td>\n",
       "      <td>7792900092683</td>\n",
       "      <td>2021-8-5 17:2:54</td>\n",
       "      <td>0</td>\n",
       "      <td>1.2</td>\n",
       "    </tr>\n",
       "    <tr>\n",
       "      <th>4403</th>\n",
       "      <td>d5121f2f-14be-4b20-a253-26536d90297f</td>\n",
       "      <td>7792900092683</td>\n",
       "      <td>2021-8-5 16:59:25</td>\n",
       "      <td>0</td>\n",
       "      <td>1.1</td>\n",
       "    </tr>\n",
       "    <tr>\n",
       "      <th>4404</th>\n",
       "      <td>e73f2bae-f09f-449b-8ab6-6fafed0f08ec</td>\n",
       "      <td>7792900092683</td>\n",
       "      <td>2021-8-5 17:30:47</td>\n",
       "      <td>0</td>\n",
       "      <td>1.1</td>\n",
       "    </tr>\n",
       "    <tr>\n",
       "      <th>4405</th>\n",
       "      <td>538b2b3f-92cc-45a3-9d54-aabf0050e8fe</td>\n",
       "      <td>-1</td>\n",
       "      <td>2021-8-5 16:40:22</td>\n",
       "      <td>1</td>\n",
       "      <td>1.2</td>\n",
       "    </tr>\n",
       "    <tr>\n",
       "      <th>4406</th>\n",
       "      <td>d8b504f6-0974-406e-b115-291ed8de40f4</td>\n",
       "      <td>7792900092676</td>\n",
       "      <td>2021-8-5 17:28:13</td>\n",
       "      <td>0</td>\n",
       "      <td>1.1</td>\n",
       "    </tr>\n",
       "  </tbody>\n",
       "</table>\n",
       "<p>4407 rows × 5 columns</p>\n",
       "</div>"
      ],
      "text/plain": [
       "                                        id        product          timestamp  \\\n",
       "0     676a2a53-5e37-4de1-8e4d-ec6985cb9129  7792900092676  2021-8-5 16:44:19   \n",
       "1     5d59ad3b-963a-443f-9d9f-57eaf040b485  7792900092911  2021-8-5 17:28:57   \n",
       "2     37b37dd2-5c51-4e19-87e7-94ffa0ab08bd  7792900093260   2021-8-5 17:31:3   \n",
       "3     6fce69df-a864-4577-8565-e59cc2542863             -1  2021-8-5 16:59:46   \n",
       "4     f50a937f-c8b1-4917-a77b-9939b20c6382  7792900092676  2021-8-5 17:30:39   \n",
       "...                                    ...            ...                ...   \n",
       "4402  40a179c1-bb29-4eda-86b4-ce1c07fe6f8a  7792900092683   2021-8-5 17:2:54   \n",
       "4403  d5121f2f-14be-4b20-a253-26536d90297f  7792900092683  2021-8-5 16:59:25   \n",
       "4404  e73f2bae-f09f-449b-8ab6-6fafed0f08ec  7792900092683  2021-8-5 17:30:47   \n",
       "4405  538b2b3f-92cc-45a3-9d54-aabf0050e8fe             -1  2021-8-5 16:40:22   \n",
       "4406  d8b504f6-0974-406e-b115-291ed8de40f4  7792900092676  2021-8-5 17:28:13   \n",
       "\n",
       "      user  zone  \n",
       "0        0   1.2  \n",
       "1        0   1.1  \n",
       "2        0   1.1  \n",
       "3        0   1.1  \n",
       "4        0   1.1  \n",
       "...    ...   ...  \n",
       "4402     0   1.2  \n",
       "4403     0   1.1  \n",
       "4404     0   1.1  \n",
       "4405     1   1.2  \n",
       "4406     0   1.1  \n",
       "\n",
       "[4407 rows x 5 columns]"
      ]
     },
     "execution_count": 1,
     "metadata": {},
     "output_type": "execute_result"
    }
   ],
   "source": [
    "import pandas as pd \n",
    "df = pd.read_csv('/home/webwerks/go2future/vision_data_user_check.csv')\n",
    "df"
   ]
  },
  {
   "cell_type": "code",
   "execution_count": 2,
   "id": "851319d0",
   "metadata": {},
   "outputs": [
    {
     "data": {
      "text/plain": [
       "{0, 1}"
      ]
     },
     "execution_count": 2,
     "metadata": {},
     "output_type": "execute_result"
    }
   ],
   "source": [
    "users = set(df['user'])\n",
    "users"
   ]
  },
  {
   "cell_type": "code",
   "execution_count": 3,
   "id": "98a553ab",
   "metadata": {},
   "outputs": [
    {
     "data": {
      "text/plain": [
       "0      2021-08-05 16:44:19\n",
       "1      2021-08-05 17:28:57\n",
       "2      2021-08-05 17:31:03\n",
       "3      2021-08-05 16:59:46\n",
       "4      2021-08-05 17:30:39\n",
       "               ...        \n",
       "4402   2021-08-05 17:02:54\n",
       "4403   2021-08-05 16:59:25\n",
       "4404   2021-08-05 17:30:47\n",
       "4405   2021-08-05 16:40:22\n",
       "4406   2021-08-05 17:28:13\n",
       "Name: timestamp, Length: 4407, dtype: datetime64[ns]"
      ]
     },
     "execution_count": 3,
     "metadata": {},
     "output_type": "execute_result"
    }
   ],
   "source": [
    "from datetime import datetime\n",
    "\n",
    "\n",
    "df['timestamp'] = pd.to_datetime(df['timestamp'], format=\"%Y-%m-%d %H:%M:%S\")\n",
    "\n",
    "\n",
    "df['timestamp']"
   ]
  },
  {
   "cell_type": "code",
   "execution_count": 10,
   "id": "1a42b410",
   "metadata": {},
   "outputs": [
    {
     "ename": "TypeError",
     "evalue": "'method' object is not subscriptable",
     "output_type": "error",
     "traceback": [
      "\u001b[0;31m---------------------------------------------------------------------------\u001b[0m",
      "\u001b[0;31mTypeError\u001b[0m                                 Traceback (most recent call last)",
      "\u001b[0;32m<ipython-input-10-b18ae26fab22>\u001b[0m in \u001b[0;36m<module>\u001b[0;34m\u001b[0m\n\u001b[1;32m      1\u001b[0m \u001b[0mx\u001b[0m \u001b[0;34m=\u001b[0m \u001b[0mdf\u001b[0m\u001b[0;34m.\u001b[0m\u001b[0mquery\u001b[0m\u001b[0;34m(\u001b[0m\u001b[0;34m'\"2021-08-05 16:44:19\" < timestamp < \"2021-08-05 17:02:54\" and zone == 1.2'\u001b[0m\u001b[0;34m)\u001b[0m\u001b[0;34m\u001b[0m\u001b[0;34m\u001b[0m\u001b[0m\n\u001b[0;32m----> 2\u001b[0;31m \u001b[0mx\u001b[0m\u001b[0;34m.\u001b[0m\u001b[0mhead\u001b[0m\u001b[0;34m[\u001b[0m\u001b[0;34m'user'\u001b[0m\u001b[0;34m]\u001b[0m\u001b[0;34m\u001b[0m\u001b[0;34m\u001b[0m\u001b[0m\n\u001b[0m",
      "\u001b[0;31mTypeError\u001b[0m: 'method' object is not subscriptable"
     ]
    }
   ],
   "source": [
    "x = df.query('\"2021-08-05 16:44:19\" < timestamp < \"2021-08-05 17:02:54\" and zone == 1.2')\n",
    "x.['user']"
   ]
  },
  {
   "cell_type": "code",
   "execution_count": null,
   "id": "81f97138",
   "metadata": {},
   "outputs": [],
   "source": []
  }
 ],
 "metadata": {
  "kernelspec": {
   "display_name": "Python 3",
   "language": "python",
   "name": "python3"
  },
  "language_info": {
   "codemirror_mode": {
    "name": "ipython",
    "version": 3
   },
   "file_extension": ".py",
   "mimetype": "text/x-python",
   "name": "python",
   "nbconvert_exporter": "python",
   "pygments_lexer": "ipython3",
   "version": "3.8.10"
  }
 },
 "nbformat": 4,
 "nbformat_minor": 5
}
